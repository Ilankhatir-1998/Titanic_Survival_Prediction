{
 "cells": [
  {
   "cell_type": "markdown",
   "metadata": {
    "papermill": {
     "duration": 0.040985,
     "end_time": "2021-01-01T18:01:35.694455",
     "exception": false,
     "start_time": "2021-01-01T18:01:35.653470",
     "status": "completed"
    },
    "tags": []
   },
   "source": [
    " # SURVIVAL PREDICTION OF TITANIC PASSENGERS"
   ]
  },
  {
   "cell_type": "markdown",
   "metadata": {
    "papermill": {
     "duration": 0.041097,
     "end_time": "2021-01-01T18:01:35.775292",
     "exception": false,
     "start_time": "2021-01-01T18:01:35.734195",
     "status": "completed"
    },
    "tags": []
   },
   "source": []
  },
  {
   "cell_type": "code",
   "execution_count": 1,
   "metadata": {
    "_cell_guid": "b1076dfc-b9ad-4769-8c92-a6c4dae69d19",
    "_uuid": "8f2839f25d086af736a60e9eeb907d3b93b6e0e5",
    "execution": {
     "iopub.execute_input": "2021-01-01T18:01:35.868999Z",
     "iopub.status.busy": "2021-01-01T18:01:35.868082Z",
     "iopub.status.idle": "2021-01-01T18:01:35.878164Z",
     "shell.execute_reply": "2021-01-01T18:01:35.879004Z"
    },
    "papermill": {
     "duration": 0.058039,
     "end_time": "2021-01-01T18:01:35.879214",
     "exception": false,
     "start_time": "2021-01-01T18:01:35.821175",
     "status": "completed"
    },
    "tags": []
   },
   "outputs": [
    {
     "name": "stdout",
     "output_type": "stream",
     "text": [
      "/kaggle/input/titanic/train.csv\n",
      "/kaggle/input/titanic/test.csv\n",
      "/kaggle/input/titanic/gender_submission.csv\n",
      "/kaggle/input/titanic-image/Titanic.jpeg\n"
     ]
    }
   ],
   "source": [
    "#Python 3\n",
    "import numpy as np # linear algebra\n",
    "import pandas as pd # data processing, CSV file I/O (e.g. pd.read_csv)\n",
    "\n",
    "import os\n",
    "for dirname, _, filenames in os.walk('/kaggle/input'):\n",
    "    for filename in filenames:\n",
    "        print(os.path.join(dirname, filename))\n"
   ]
  },
  {
   "cell_type": "markdown",
   "metadata": {
    "papermill": {
     "duration": 0.039465,
     "end_time": "2021-01-01T18:01:35.966709",
     "exception": false,
     "start_time": "2021-01-01T18:01:35.927244",
     "status": "completed"
    },
    "tags": []
   },
   "source": [
    "## INTRODUCTION"
   ]
  },
  {
   "cell_type": "markdown",
   "metadata": {
    "papermill": {
     "duration": 0.038982,
     "end_time": "2021-01-01T18:01:36.044958",
     "exception": false,
     "start_time": "2021-01-01T18:01:36.005976",
     "status": "completed"
    },
    "tags": []
   },
   "source": [
    "*This is the legendary Titanic ML activity – the best, first challenge for you to dive into ML activity and familiarize yourself with data science.The activity is simple: use machine learning to create a model that predicts which passengers survived the Titanic shipwreck using the available dataset.*"
   ]
  },
  {
   "cell_type": "code",
   "execution_count": 2,
   "metadata": {
    "execution": {
     "iopub.execute_input": "2021-01-01T18:01:36.131733Z",
     "iopub.status.busy": "2021-01-01T18:01:36.131139Z",
     "iopub.status.idle": "2021-01-01T18:01:36.163173Z",
     "shell.execute_reply": "2021-01-01T18:01:36.162459Z"
    },
    "papermill": {
     "duration": 0.079014,
     "end_time": "2021-01-01T18:01:36.163280",
     "exception": false,
     "start_time": "2021-01-01T18:01:36.084266",
     "status": "completed"
    },
    "tags": []
   },
   "outputs": [],
   "source": [
    "import IPython.display as display\n",
    "train = pd.read_csv(\"/kaggle/input/titanic/train.csv\") #Enter your train dataset location\n",
    "test = pd.read_csv(\"/kaggle/input/titanic/test.csv\") #Enter your test dataset location"
   ]
  },
  {
   "cell_type": "markdown",
   "metadata": {
    "papermill": {
     "duration": 0.040979,
     "end_time": "2021-01-01T18:01:36.243975",
     "exception": false,
     "start_time": "2021-01-01T18:01:36.202996",
     "status": "completed"
    },
    "tags": []
   },
   "source": [
    "*In the above shell command, the datasets are retrieved from the input directory.*"
   ]
  },
  {
   "cell_type": "markdown",
   "metadata": {
    "papermill": {
     "duration": 0.040999,
     "end_time": "2021-01-01T18:01:36.331198",
     "exception": false,
     "start_time": "2021-01-01T18:01:36.290199",
     "status": "completed"
    },
    "tags": []
   },
   "source": [
    "## VISUALIZATION"
   ]
  },
  {
   "cell_type": "markdown",
   "metadata": {
    "papermill": {
     "duration": 0.04429,
     "end_time": "2021-01-01T18:01:36.416441",
     "exception": false,
     "start_time": "2021-01-01T18:01:36.372151",
     "status": "completed"
    },
    "tags": []
   },
   "source": [
    "Data visualization is an important aspect of data science as it makes the insights easy to interpret the data.  Visuals are the easiest way to analyze and absorb information to understand and decode complex problems. They help to identify patterns and relationships in data.  "
   ]
  },
  {
   "cell_type": "code",
   "execution_count": 3,
   "metadata": {
    "execution": {
     "iopub.execute_input": "2021-01-01T18:01:36.507067Z",
     "iopub.status.busy": "2021-01-01T18:01:36.506210Z",
     "iopub.status.idle": "2021-01-01T18:01:37.530513Z",
     "shell.execute_reply": "2021-01-01T18:01:37.529626Z"
    },
    "papermill": {
     "duration": 1.074235,
     "end_time": "2021-01-01T18:01:37.530645",
     "exception": false,
     "start_time": "2021-01-01T18:01:36.456410",
     "status": "completed"
    },
    "tags": []
   },
   "outputs": [],
   "source": [
    "import matplotlib.pyplot as plt\n",
    "%matplotlib inline\n",
    "import seaborn as sns\n",
    "sns.set()"
   ]
  },
  {
   "cell_type": "markdown",
   "metadata": {
    "papermill": {
     "duration": 0.059461,
     "end_time": "2021-01-01T18:01:37.654623",
     "exception": false,
     "start_time": "2021-01-01T18:01:37.595162",
     "status": "completed"
    },
    "tags": []
   },
   "source": [
    "*In the below function the feature is extracted based on the dependence of the survival feature. Later both the survived and death counts are allocated a Data structure of pandas as **DataFrame**. The plot for the two elements is made as a bar chart and stacked over on another. *"
   ]
  },
  {
   "cell_type": "code",
   "execution_count": 4,
   "metadata": {
    "execution": {
     "iopub.execute_input": "2021-01-01T18:01:37.785163Z",
     "iopub.status.busy": "2021-01-01T18:01:37.784288Z",
     "iopub.status.idle": "2021-01-01T18:01:37.787293Z",
     "shell.execute_reply": "2021-01-01T18:01:37.787945Z"
    },
    "papermill": {
     "duration": 0.072577,
     "end_time": "2021-01-01T18:01:37.788068",
     "exception": false,
     "start_time": "2021-01-01T18:01:37.715491",
     "status": "completed"
    },
    "tags": []
   },
   "outputs": [],
   "source": [
    "def chart(feature):\n",
    "    survived = train[train[\"Survived\"] == 1][feature].value_counts()\n",
    "    death = train[train[\"Survived\"] == 0][feature].value_counts()\n",
    "    df = pd.DataFrame([survived,death])\n",
    "    df.index = [\"Survived\",\"Dead\"]\n",
    "    df.plot(kind = \"bar\", stacked = True ,figsize = (10,5))"
   ]
  },
  {
   "cell_type": "code",
   "execution_count": 5,
   "metadata": {
    "execution": {
     "iopub.execute_input": "2021-01-01T18:01:37.879006Z",
     "iopub.status.busy": "2021-01-01T18:01:37.878166Z",
     "iopub.status.idle": "2021-01-01T18:01:38.166316Z",
     "shell.execute_reply": "2021-01-01T18:01:38.165488Z"
    },
    "papermill": {
     "duration": 0.338373,
     "end_time": "2021-01-01T18:01:38.166452",
     "exception": false,
     "start_time": "2021-01-01T18:01:37.828079",
     "status": "completed"
    },
    "tags": []
   },
   "outputs": [
    {
     "data": {
      "image/png": "[encoded data removed]",
      "text/plain": [
       "<Figure size 720x360 with 1 Axes>"
      ]
     },
     "metadata": {},
     "output_type": "display_data"
    }
   ],
   "source": [
    "chart(\"Sex\")"
   ]
  },
  {
   "cell_type": "markdown",
   "metadata": {
    "papermill": {
     "duration": 0.053084,
     "end_time": "2021-01-01T18:01:38.281402",
     "exception": false,
     "start_time": "2021-01-01T18:01:38.228318",
     "status": "completed"
    },
    "tags": []
   },
   "source": [
    "*From the above chart, we can gather an insight that the amount of men who survived the shipwreck is less than the number of men dead over the shipwreck.*"
   ]
  },
  {
   "cell_type": "markdown",
   "metadata": {
    "papermill": {
     "duration": 0.040303,
     "end_time": "2021-01-01T18:01:38.363960",
     "exception": false,
     "start_time": "2021-01-01T18:01:38.323657",
     "status": "completed"
    },
    "tags": []
   },
   "source": [
    "## FEATURE EXTRACTION"
   ]
  },
  {
   "cell_type": "markdown",
   "metadata": {
    "papermill": {
     "duration": 0.040733,
     "end_time": "2021-01-01T18:01:38.453107",
     "exception": false,
     "start_time": "2021-01-01T18:01:38.412374",
     "status": "completed"
    },
    "tags": []
   },
   "source": [
    "*Feature extraction starts from the initial set of measured data to build a derived value known as a feature to convey informative and non-redundant knowledge. When input data is too large to be processed and it is suspected to be having a repetition of the same measurement then it is processed to fill the null value and remove a repeated value for the betterment of the dataset.*\n",
    "\n",
    "*Feature extraction is considered as a direct influencing factor towards the performance of a predictive model.*"
   ]
  },
  {
   "cell_type": "markdown",
   "metadata": {
    "papermill": {
     "duration": 0.040046,
     "end_time": "2021-01-01T18:01:38.535005",
     "exception": false,
     "start_time": "2021-01-01T18:01:38.494959",
     "status": "completed"
    },
    "tags": []
   },
   "source": [
    "### **Regex**"
   ]
  },
  {
   "cell_type": "markdown",
   "metadata": {
    "papermill": {
     "duration": 0.04114,
     "end_time": "2021-01-01T18:01:38.618228",
     "exception": false,
     "start_time": "2021-01-01T18:01:38.577088",
     "status": "completed"
    },
    "tags": []
   },
   "source": [
    "*Regex is derived from the term regular expression also known as rational expression. This package is used in string algorithms to extract a certain kind of search pattern.\n",
    "For more information related to [regex](http://https://docs.python.org/3/library/re.html \"Regex documentation\") do visit the link.*\n",
    "\n",
    "*In the below cell the Name column of the provided dataset is manipulated in a meaningful manner. The regex function is used to extract the title tags from the provided name columns.*"
   ]
  },
  {
   "cell_type": "code",
   "execution_count": 6,
   "metadata": {
    "execution": {
     "iopub.execute_input": "2021-01-01T18:01:38.717585Z",
     "iopub.status.busy": "2021-01-01T18:01:38.716597Z",
     "iopub.status.idle": "2021-01-01T18:01:38.720204Z",
     "shell.execute_reply": "2021-01-01T18:01:38.719572Z"
    },
    "papermill": {
     "duration": 0.06163,
     "end_time": "2021-01-01T18:01:38.720308",
     "exception": false,
     "start_time": "2021-01-01T18:01:38.658678",
     "status": "completed"
    },
    "tags": []
   },
   "outputs": [],
   "source": [
    "import re\n",
    "train_test = [train,test]\n",
    "for dataset in train_test:\n",
    "    dataset[\"Title\"] = dataset[\"Name\"].str.extract(\"([A-Za-z]+)\\.\", expand = False )"
   ]
  },
  {
   "cell_type": "code",
   "execution_count": 7,
   "metadata": {
    "execution": {
     "iopub.execute_input": "2021-01-01T18:01:38.812263Z",
     "iopub.status.busy": "2021-01-01T18:01:38.811282Z",
     "iopub.status.idle": "2021-01-01T18:01:38.815049Z",
     "shell.execute_reply": "2021-01-01T18:01:38.815729Z"
    },
    "papermill": {
     "duration": 0.054642,
     "end_time": "2021-01-01T18:01:38.815905",
     "exception": false,
     "start_time": "2021-01-01T18:01:38.761263",
     "status": "completed"
    },
    "tags": []
   },
   "outputs": [
    {
     "data": {
      "text/plain": [
       "Mr          517\n",
       "Miss        182\n",
       "Mrs         125\n",
       "Master       40\n",
       "Dr            7\n",
       "Rev           6\n",
       "Col           2\n",
       "Major         2\n",
       "Mlle          2\n",
       "Mme           1\n",
       "Jonkheer      1\n",
       "Countess      1\n",
       "Ms            1\n",
       "Capt          1\n",
       "Don           1\n",
       "Sir           1\n",
       "Lady          1\n",
       "Name: Title, dtype: int64"
      ]
     },
     "execution_count": 7,
     "metadata": {},
     "output_type": "execute_result"
    }
   ],
   "source": [
    "train[\"Title\"].value_counts()"
   ]
  },
  {
   "cell_type": "code",
   "execution_count": 8,
   "metadata": {
    "execution": {
     "iopub.execute_input": "2021-01-01T18:01:38.952121Z",
     "iopub.status.busy": "2021-01-01T18:01:38.951356Z",
     "iopub.status.idle": "2021-01-01T18:01:38.957449Z",
     "shell.execute_reply": "2021-01-01T18:01:38.956608Z"
    },
    "papermill": {
     "duration": 0.079421,
     "end_time": "2021-01-01T18:01:38.957571",
     "exception": false,
     "start_time": "2021-01-01T18:01:38.878150",
     "status": "completed"
    },
    "tags": []
   },
   "outputs": [
    {
     "data": {
      "text/plain": [
       "{'Mr': 3.0,\n",
       " 'Mrs': 2.0,\n",
       " 'Miss': 3.0,\n",
       " 'Master': 3.0,\n",
       " 'Don': 3.0,\n",
       " 'Rev': 3.0,\n",
       " 'Dr': 3.0,\n",
       " 'Mme': 3.0,\n",
       " 'Ms': 3.0,\n",
       " 'Major': 3.0,\n",
       " 'Lady': 3.0,\n",
       " 'Sir': 3.0,\n",
       " 'Mlle': 3.0,\n",
       " 'Col': 3.0,\n",
       " 'Capt': 3.0,\n",
       " 'Countess': 3.0,\n",
       " 'Jonkheer': 3.0,\n",
       " 'Dona': 3.0}"
      ]
     },
     "execution_count": 8,
     "metadata": {},
     "output_type": "execute_result"
    }
   ],
   "source": [
    "title_dict = {}\n",
    "for title in train[\"Title\"]:\n",
    "    if title== \"Mr\":\n",
    "        title_dict[title] = 0.0\n",
    "    if title == \"Miss\":\n",
    "        title_dict[title] = 1.0\n",
    "    if title == \"Mrs\":\n",
    "        title_dict[title] = 2.0\n",
    "    else:\n",
    "        title_dict[title] = 3.0\n",
    "for title in test[\"Title\"]:\n",
    "    if title== \"Mr\":\n",
    "        title_dict[title] = 0.0\n",
    "    if title == \"Miss\":\n",
    "        title_dict[title] = 1.0\n",
    "    if title == \"Mrs\":\n",
    "        title_dict[title] = 2.0\n",
    "    else:\n",
    "        title_dict[title] = 3.0\n",
    "        \n",
    "title_dict"
   ]
  },
  {
   "cell_type": "code",
   "execution_count": 9,
   "metadata": {
    "execution": {
     "iopub.execute_input": "2021-01-01T18:01:39.092394Z",
     "iopub.status.busy": "2021-01-01T18:01:39.091816Z",
     "iopub.status.idle": "2021-01-01T18:01:39.095511Z",
     "shell.execute_reply": "2021-01-01T18:01:39.094988Z"
    },
    "papermill": {
     "duration": 0.074462,
     "end_time": "2021-01-01T18:01:39.095605",
     "exception": false,
     "start_time": "2021-01-01T18:01:39.021143",
     "status": "completed"
    },
    "tags": []
   },
   "outputs": [],
   "source": [
    "for dataset in train_test:\n",
    "    dataset[\"Title\"] = dataset[\"Title\"].map(title_dict)\n"
   ]
  },
  {
   "cell_type": "code",
   "execution_count": 10,
   "metadata": {
    "execution": {
     "iopub.execute_input": "2021-01-01T18:01:39.187225Z",
     "iopub.status.busy": "2021-01-01T18:01:39.184043Z",
     "iopub.status.idle": "2021-01-01T18:01:39.191340Z",
     "shell.execute_reply": "2021-01-01T18:01:39.191814Z"
    },
    "papermill": {
     "duration": 0.054419,
     "end_time": "2021-01-01T18:01:39.191933",
     "exception": false,
     "start_time": "2021-01-01T18:01:39.137514",
     "status": "completed"
    },
    "tags": []
   },
   "outputs": [],
   "source": [
    "train.drop(\"Name\" , axis = 1, inplace = True)\n",
    "test.drop(\"Name\" , axis = 1, inplace = True)"
   ]
  },
  {
   "cell_type": "markdown",
   "metadata": {
    "papermill": {
     "duration": 0.043148,
     "end_time": "2021-01-01T18:01:39.277309",
     "exception": false,
     "start_time": "2021-01-01T18:01:39.234161",
     "status": "completed"
    },
    "tags": []
   },
   "source": [
    "*The sex column won't be provided with data as the values of the column are in string formats. Thus the values of the columns are converted into the numerical format for vector manipulation.*"
   ]
  },
  {
   "cell_type": "code",
   "execution_count": 11,
   "metadata": {
    "execution": {
     "iopub.execute_input": "2021-01-01T18:01:39.371891Z",
     "iopub.status.busy": "2021-01-01T18:01:39.371245Z",
     "iopub.status.idle": "2021-01-01T18:01:39.374819Z",
     "shell.execute_reply": "2021-01-01T18:01:39.374260Z"
    },
    "papermill": {
     "duration": 0.053714,
     "end_time": "2021-01-01T18:01:39.374915",
     "exception": false,
     "start_time": "2021-01-01T18:01:39.321201",
     "status": "completed"
    },
    "tags": []
   },
   "outputs": [],
   "source": [
    "sex_dict = {\"male\" : 0, \"female\" : 1}\n",
    "for dataset in train_test:\n",
    "    dataset[\"Sex\"] = dataset[\"Sex\"].map(sex_dict)"
   ]
  },
  {
   "cell_type": "code",
   "execution_count": 12,
   "metadata": {
    "execution": {
     "iopub.execute_input": "2021-01-01T18:01:39.465789Z",
     "iopub.status.busy": "2021-01-01T18:01:39.464415Z",
     "iopub.status.idle": "2021-01-01T18:01:39.622264Z",
     "shell.execute_reply": "2021-01-01T18:01:39.621684Z"
    },
    "papermill": {
     "duration": 0.204721,
     "end_time": "2021-01-01T18:01:39.622367",
     "exception": false,
     "start_time": "2021-01-01T18:01:39.417646",
     "status": "completed"
    },
    "tags": []
   },
   "outputs": [
    {
     "data": {
      "image/png": "[encoded data removed]",
      "text/plain": [
       "<Figure size 720x360 with 1 Axes>"
      ]
     },
     "metadata": {},
     "output_type": "display_data"
    }
   ],
   "source": [
    "chart(\"Sex\")"
   ]
  },
  {
   "cell_type": "markdown",
   "metadata": {
    "papermill": {
     "duration": 0.042874,
     "end_time": "2021-01-01T18:01:39.708311",
     "exception": false,
     "start_time": "2021-01-01T18:01:39.665437",
     "status": "completed"
    },
    "tags": []
   },
   "source": [
    "*The missing value of the age columns are filled by taking the average of age in correlation with the title column of the provided dataset. The method used here is fillna from pandas.*"
   ]
  },
  {
   "cell_type": "code",
   "execution_count": 13,
   "metadata": {
    "execution": {
     "iopub.execute_input": "2021-01-01T18:01:39.804899Z",
     "iopub.status.busy": "2021-01-01T18:01:39.804051Z",
     "iopub.status.idle": "2021-01-01T18:01:39.811171Z",
     "shell.execute_reply": "2021-01-01T18:01:39.810356Z"
    },
    "papermill": {
     "duration": 0.058028,
     "end_time": "2021-01-01T18:01:39.811289",
     "exception": false,
     "start_time": "2021-01-01T18:01:39.753261",
     "status": "completed"
    },
    "tags": []
   },
   "outputs": [],
   "source": [
    "train[\"Age\"].fillna(train.groupby(\"Title\")[\"Age\"].transform(\"median\"),inplace = True)\n",
    "test[\"Age\"].fillna(test.groupby(\"Title\")[\"Age\"].transform(\"median\") , inplace = True)"
   ]
  },
  {
   "cell_type": "code",
   "execution_count": 14,
   "metadata": {
    "execution": {
     "iopub.execute_input": "2021-01-01T18:01:39.950014Z",
     "iopub.status.busy": "2021-01-01T18:01:39.948605Z",
     "iopub.status.idle": "2021-01-01T18:01:40.498684Z",
     "shell.execute_reply": "2021-01-01T18:01:40.497997Z"
    },
    "papermill": {
     "duration": 0.622267,
     "end_time": "2021-01-01T18:01:40.498835",
     "exception": false,
     "start_time": "2021-01-01T18:01:39.876568",
     "status": "completed"
    },
    "tags": []
   },
   "outputs": [
    {
     "data": {
      "image/png": "[encoded data removed]",
      "text/plain": [
       "<Figure size 917.425x216 with 1 Axes>"
      ]
     },
     "metadata": {},
     "output_type": "display_data"
    }
   ],
   "source": [
    "facecet = sns.FacetGrid(train,hue = \"Survived\",aspect = 4)\n",
    "facecet.map(sns.kdeplot,\"Age\",shade = True)\n",
    "facecet.set(xlim = (0,train[\"Age\"].max()))\n",
    "facecet.add_legend()\n",
    "plt.show()"
   ]
  },
  {
   "cell_type": "markdown",
   "metadata": {
    "papermill": {
     "duration": 0.066781,
     "end_time": "2021-01-01T18:01:40.633136",
     "exception": false,
     "start_time": "2021-01-01T18:01:40.566355",
     "status": "completed"
    },
    "tags": []
   },
   "source": []
  },
  {
   "cell_type": "markdown",
   "metadata": {
    "papermill": {
     "duration": 0.065945,
     "end_time": "2021-01-01T18:01:40.767346",
     "exception": false,
     "start_time": "2021-01-01T18:01:40.701401",
     "status": "completed"
    },
    "tags": []
   },
   "source": [
    "The person between age of (34 to 42)yrs have a more likely chance to survive the crash."
   ]
  },
  {
   "cell_type": "code",
   "execution_count": 15,
   "metadata": {
    "execution": {
     "iopub.execute_input": "2021-01-01T18:01:40.925253Z",
     "iopub.status.busy": "2021-01-01T18:01:40.920346Z",
     "iopub.status.idle": "2021-01-01T18:01:41.506135Z",
     "shell.execute_reply": "2021-01-01T18:01:41.506667Z"
    },
    "papermill": {
     "duration": 0.667817,
     "end_time": "2021-01-01T18:01:41.506859",
     "exception": false,
     "start_time": "2021-01-01T18:01:40.839042",
     "status": "completed"
    },
    "tags": []
   },
   "outputs": [
    {
     "data": {
      "text/plain": [
       "(34.0, 42.0)"
      ]
     },
     "execution_count": 15,
     "metadata": {},
     "output_type": "execute_result"
    },
    {
     "data": {
      "image/png": "[encoded data removed]",
      "text/plain": [
       "<Figure size 917.425x216 with 1 Axes>"
      ]
     },
     "metadata": {},
     "output_type": "display_data"
    }
   ],
   "source": [
    "facecet = sns.FacetGrid(train,hue = \"Survived\",aspect = 4)\n",
    "facecet.map(sns.kdeplot,\"Age\",shade = True)\n",
    "facecet.set(xlim = (0,train[\"Age\"].max()))\n",
    "facecet.add_legend()\n",
    "\n",
    "plt.xlim(34,42)"
   ]
  },
  {
   "cell_type": "code",
   "execution_count": 16,
   "metadata": {
    "execution": {
     "iopub.execute_input": "2021-01-01T18:01:41.743103Z",
     "iopub.status.busy": "2021-01-01T18:01:41.613613Z",
     "iopub.status.idle": "2021-01-01T18:01:42.371714Z",
     "shell.execute_reply": "2021-01-01T18:01:42.371094Z"
    },
    "papermill": {
     "duration": 0.815936,
     "end_time": "2021-01-01T18:01:42.371846",
     "exception": false,
     "start_time": "2021-01-01T18:01:41.555910",
     "status": "completed"
    },
    "tags": []
   },
   "outputs": [
    {
     "data": {
      "text/plain": [
       "(0.0, 17.0)"
      ]
     },
     "execution_count": 16,
     "metadata": {},
     "output_type": "execute_result"
    },
    {
     "data": {
      "image/png": "[encoded data removed]",
      "text/plain": [
       "<Figure size 917.425x216 with 1 Axes>"
      ]
     },
     "metadata": {},
     "output_type": "display_data"
    }
   ],
   "source": [
    "facecet = sns.FacetGrid(train,hue = \"Survived\",aspect = 4)\n",
    "facecet.map(sns.kdeplot,\"Age\",shade = True)\n",
    "facecet.set(xlim = (0,train[\"Age\"].max()))\n",
    "facecet.add_legend()\n",
    "plt.xlim(0,17)"
   ]
  },
  {
   "cell_type": "code",
   "execution_count": 17,
   "metadata": {
    "execution": {
     "iopub.execute_input": "2021-01-01T18:01:42.479917Z",
     "iopub.status.busy": "2021-01-01T18:01:42.479286Z",
     "iopub.status.idle": "2021-01-01T18:01:42.491300Z",
     "shell.execute_reply": "2021-01-01T18:01:42.490499Z"
    },
    "papermill": {
     "duration": 0.070892,
     "end_time": "2021-01-01T18:01:42.491416",
     "exception": false,
     "start_time": "2021-01-01T18:01:42.420524",
     "status": "completed"
    },
    "tags": []
   },
   "outputs": [
    {
     "data": {
      "text/html": [
       "<div>\n",
       "<style scoped>\n",
       "    .dataframe tbody tr th:only-of-type {\n",
       "        vertical-align: middle;\n",
       "    }\n",
       "\n",
       "    .dataframe tbody tr th {\n",
       "        vertical-align: top;\n",
       "    }\n",
       "\n",
       "    .dataframe thead th {\n",
       "        text-align: right;\n",
       "    }\n",
       "</style>\n",
       "<table border=\"1\" class=\"dataframe\">\n",
       "  <thead>\n",
       "    <tr style=\"text-align: right;\">\n",
       "      <th></th>\n",
       "      <th>PassengerId</th>\n",
       "      <th>Survived</th>\n",
       "      <th>Pclass</th>\n",
       "      <th>Sex</th>\n",
       "      <th>Age</th>\n",
       "      <th>SibSp</th>\n",
       "      <th>Parch</th>\n",
       "      <th>Ticket</th>\n",
       "      <th>Fare</th>\n",
       "      <th>Cabin</th>\n",
       "      <th>Embarked</th>\n",
       "      <th>Title</th>\n",
       "    </tr>\n",
       "  </thead>\n",
       "  <tbody>\n",
       "    <tr>\n",
       "      <th>0</th>\n",
       "      <td>1</td>\n",
       "      <td>0</td>\n",
       "      <td>3</td>\n",
       "      <td>0</td>\n",
       "      <td>22.0</td>\n",
       "      <td>1</td>\n",
       "      <td>0</td>\n",
       "      <td>A/5 21171</td>\n",
       "      <td>7.2500</td>\n",
       "      <td>NaN</td>\n",
       "      <td>S</td>\n",
       "      <td>3.0</td>\n",
       "    </tr>\n",
       "    <tr>\n",
       "      <th>1</th>\n",
       "      <td>2</td>\n",
       "      <td>1</td>\n",
       "      <td>1</td>\n",
       "      <td>1</td>\n",
       "      <td>38.0</td>\n",
       "      <td>1</td>\n",
       "      <td>0</td>\n",
       "      <td>PC 17599</td>\n",
       "      <td>71.2833</td>\n",
       "      <td>C85</td>\n",
       "      <td>C</td>\n",
       "      <td>2.0</td>\n",
       "    </tr>\n",
       "    <tr>\n",
       "      <th>2</th>\n",
       "      <td>3</td>\n",
       "      <td>1</td>\n",
       "      <td>3</td>\n",
       "      <td>1</td>\n",
       "      <td>26.0</td>\n",
       "      <td>0</td>\n",
       "      <td>0</td>\n",
       "      <td>STON/O2. 3101282</td>\n",
       "      <td>7.9250</td>\n",
       "      <td>NaN</td>\n",
       "      <td>S</td>\n",
       "      <td>3.0</td>\n",
       "    </tr>\n",
       "    <tr>\n",
       "      <th>3</th>\n",
       "      <td>4</td>\n",
       "      <td>1</td>\n",
       "      <td>1</td>\n",
       "      <td>1</td>\n",
       "      <td>35.0</td>\n",
       "      <td>1</td>\n",
       "      <td>0</td>\n",
       "      <td>113803</td>\n",
       "      <td>53.1000</td>\n",
       "      <td>C123</td>\n",
       "      <td>S</td>\n",
       "      <td>2.0</td>\n",
       "    </tr>\n",
       "    <tr>\n",
       "      <th>4</th>\n",
       "      <td>5</td>\n",
       "      <td>0</td>\n",
       "      <td>3</td>\n",
       "      <td>0</td>\n",
       "      <td>35.0</td>\n",
       "      <td>0</td>\n",
       "      <td>0</td>\n",
       "      <td>373450</td>\n",
       "      <td>8.0500</td>\n",
       "      <td>NaN</td>\n",
       "      <td>S</td>\n",
       "      <td>3.0</td>\n",
       "    </tr>\n",
       "  </tbody>\n",
       "</table>\n",
       "</div>"
      ],
      "text/plain": [
       "   PassengerId  Survived  Pclass  Sex   Age  SibSp  Parch            Ticket  \\\n",
       "0            1         0       3    0  22.0      1      0         A/5 21171   \n",
       "1            2         1       1    1  38.0      1      0          PC 17599   \n",
       "2            3         1       3    1  26.0      0      0  STON/O2. 3101282   \n",
       "3            4         1       1    1  35.0      1      0            113803   \n",
       "4            5         0       3    0  35.0      0      0            373450   \n",
       "\n",
       "      Fare Cabin Embarked  Title  \n",
       "0   7.2500   NaN        S    3.0  \n",
       "1  71.2833   C85        C    2.0  \n",
       "2   7.9250   NaN        S    3.0  \n",
       "3  53.1000  C123        S    2.0  \n",
       "4   8.0500   NaN        S    3.0  "
      ]
     },
     "execution_count": 17,
     "metadata": {},
     "output_type": "execute_result"
    }
   ],
   "source": [
    "train.head()"
   ]
  },
  {
   "cell_type": "code",
   "execution_count": 18,
   "metadata": {
    "execution": {
     "iopub.execute_input": "2021-01-01T18:01:42.640830Z",
     "iopub.status.busy": "2021-01-01T18:01:42.639142Z",
     "iopub.status.idle": "2021-01-01T18:01:42.656083Z",
     "shell.execute_reply": "2021-01-01T18:01:42.655501Z"
    },
    "papermill": {
     "duration": 0.093595,
     "end_time": "2021-01-01T18:01:42.656193",
     "exception": false,
     "start_time": "2021-01-01T18:01:42.562598",
     "status": "completed"
    },
    "tags": []
   },
   "outputs": [
    {
     "name": "stdout",
     "output_type": "stream",
     "text": [
      "<class 'pandas.core.frame.DataFrame'>\n",
      "RangeIndex: 418 entries, 0 to 417\n",
      "Data columns (total 11 columns):\n",
      " #   Column       Non-Null Count  Dtype  \n",
      "---  ------       --------------  -----  \n",
      " 0   PassengerId  418 non-null    int64  \n",
      " 1   Pclass       418 non-null    int64  \n",
      " 2   Sex          418 non-null    int64  \n",
      " 3   Age          418 non-null    float64\n",
      " 4   SibSp        418 non-null    int64  \n",
      " 5   Parch        418 non-null    int64  \n",
      " 6   Ticket       418 non-null    object \n",
      " 7   Fare         417 non-null    float64\n",
      " 8   Cabin        91 non-null     object \n",
      " 9   Embarked     418 non-null    object \n",
      " 10  Title        418 non-null    float64\n",
      "dtypes: float64(3), int64(5), object(3)\n",
      "memory usage: 36.0+ KB\n"
     ]
    }
   ],
   "source": [
    "test.info()"
   ]
  },
  {
   "cell_type": "code",
   "execution_count": 19,
   "metadata": {
    "execution": {
     "iopub.execute_input": "2021-01-01T18:01:42.776516Z",
     "iopub.status.busy": "2021-01-01T18:01:42.774378Z",
     "iopub.status.idle": "2021-01-01T18:01:42.781132Z",
     "shell.execute_reply": "2021-01-01T18:01:42.780300Z"
    },
    "papermill": {
     "duration": 0.076727,
     "end_time": "2021-01-01T18:01:42.781263",
     "exception": false,
     "start_time": "2021-01-01T18:01:42.704536",
     "status": "completed"
    },
    "tags": []
   },
   "outputs": [],
   "source": [
    "for dataset in train_test:\n",
    "    dataset.loc[ dataset['Age'] <= 16,\"Age\"] = 0\n",
    "    dataset.loc[(dataset['Age'] > 16) & (dataset['Age'] <= 26),\"Age\"] = 1\n",
    "    dataset.loc[(dataset['Age'] > 26) & (dataset['Age'] <= 36),\"Age\"] = 2\n",
    "    dataset.loc[(dataset['Age'] > 36) & (dataset['Age'] <= 62),\"Age\"] = 3\n",
    "    dataset.loc[ dataset['Age'] > 62,\"Age\"] = 4"
   ]
  },
  {
   "cell_type": "code",
   "execution_count": 20,
   "metadata": {
    "execution": {
     "iopub.execute_input": "2021-01-01T18:01:42.934897Z",
     "iopub.status.busy": "2021-01-01T18:01:42.933821Z",
     "iopub.status.idle": "2021-01-01T18:01:43.111143Z",
     "shell.execute_reply": "2021-01-01T18:01:43.111801Z"
    },
    "papermill": {
     "duration": 0.256829,
     "end_time": "2021-01-01T18:01:43.111983",
     "exception": false,
     "start_time": "2021-01-01T18:01:42.855154",
     "status": "completed"
    },
    "tags": []
   },
   "outputs": [
    {
     "data": {
      "image/png": "[encoded data removed]",
      "text/plain": [
       "<Figure size 720x360 with 1 Axes>"
      ]
     },
     "metadata": {},
     "output_type": "display_data"
    }
   ],
   "source": [
    "chart(\"Age\")"
   ]
  },
  {
   "cell_type": "code",
   "execution_count": 21,
   "metadata": {
    "execution": {
     "iopub.execute_input": "2021-01-01T18:01:43.284424Z",
     "iopub.status.busy": "2021-01-01T18:01:43.279314Z",
     "iopub.status.idle": "2021-01-01T18:01:43.492097Z",
     "shell.execute_reply": "2021-01-01T18:01:43.491544Z"
    },
    "papermill": {
     "duration": 0.305782,
     "end_time": "2021-01-01T18:01:43.492203",
     "exception": false,
     "start_time": "2021-01-01T18:01:43.186421",
     "status": "completed"
    },
    "tags": []
   },
   "outputs": [
    {
     "data": {
      "text/plain": [
       "<matplotlib.axes._subplots.AxesSubplot at 0x7f73b84a6490>"
      ]
     },
     "execution_count": 21,
     "metadata": {},
     "output_type": "execute_result"
    },
    {
     "data": {
      "image/png": "[encoded data removed]",
      "text/plain": [
       "<Figure size 720x360 with 1 Axes>"
      ]
     },
     "metadata": {},
     "output_type": "display_data"
    }
   ],
   "source": [
    "Pclass1 = train[train[\"Pclass\"]==1][\"Embarked\"].value_counts()\n",
    "Pclass2 = train[train[\"Pclass\"]==2][\"Embarked\"].value_counts()\n",
    "Pclass3 = train[train[\"Pclass\"]==3][\"Embarked\"].value_counts()\n",
    "pclass = pd.DataFrame([Pclass1,Pclass2,Pclass3])\n",
    "pclass.index = [\"1st Class\",\"2nd Class\",\"3rd Class\"]\n",
    "pclass.plot(kind =\"bar\",stacked = True, figsize = (10,5))"
   ]
  },
  {
   "cell_type": "code",
   "execution_count": 22,
   "metadata": {
    "execution": {
     "iopub.execute_input": "2021-01-01T18:01:43.603095Z",
     "iopub.status.busy": "2021-01-01T18:01:43.602263Z",
     "iopub.status.idle": "2021-01-01T18:01:43.606059Z",
     "shell.execute_reply": "2021-01-01T18:01:43.605233Z"
    },
    "papermill": {
     "duration": 0.061955,
     "end_time": "2021-01-01T18:01:43.606184",
     "exception": false,
     "start_time": "2021-01-01T18:01:43.544229",
     "status": "completed"
    },
    "tags": []
   },
   "outputs": [],
   "source": [
    "for dataset in train_test:\n",
    "    dataset[\"Embarked\"] = dataset[\"Embarked\"].fillna(\"S\")"
   ]
  },
  {
   "cell_type": "code",
   "execution_count": 23,
   "metadata": {
    "execution": {
     "iopub.execute_input": "2021-01-01T18:01:43.768121Z",
     "iopub.status.busy": "2021-01-01T18:01:43.766918Z",
     "iopub.status.idle": "2021-01-01T18:01:43.769690Z",
     "shell.execute_reply": "2021-01-01T18:01:43.770346Z"
    },
    "papermill": {
     "duration": 0.087704,
     "end_time": "2021-01-01T18:01:43.770502",
     "exception": false,
     "start_time": "2021-01-01T18:01:43.682798",
     "status": "completed"
    },
    "tags": []
   },
   "outputs": [],
   "source": [
    "embarked_dict = {\"S\":0, \"C\":1, \"Q\":2}\n",
    "for dataset in train_test:\n",
    "    dataset[\"Embarked\"] = dataset[\"Embarked\"].map(embarked_dict)"
   ]
  },
  {
   "cell_type": "code",
   "execution_count": 24,
   "metadata": {
    "execution": {
     "iopub.execute_input": "2021-01-01T18:01:43.928673Z",
     "iopub.status.busy": "2021-01-01T18:01:43.928018Z",
     "iopub.status.idle": "2021-01-01T18:01:43.936526Z",
     "shell.execute_reply": "2021-01-01T18:01:43.935920Z"
    },
    "papermill": {
     "duration": 0.089937,
     "end_time": "2021-01-01T18:01:43.936640",
     "exception": false,
     "start_time": "2021-01-01T18:01:43.846703",
     "status": "completed"
    },
    "tags": []
   },
   "outputs": [],
   "source": [
    "train[\"Fare\"].fillna(train.groupby(\"Pclass\")[\"Fare\"].transform(\"median\"),inplace = True)\n",
    "test[\"Fare\"].fillna(test.groupby(\"Pclass\")[\"Fare\"].transform(\"median\"),inplace = True)"
   ]
  },
  {
   "cell_type": "code",
   "execution_count": 25,
   "metadata": {
    "execution": {
     "iopub.execute_input": "2021-01-01T18:01:44.055076Z",
     "iopub.status.busy": "2021-01-01T18:01:44.049616Z",
     "iopub.status.idle": "2021-01-01T18:01:44.637855Z",
     "shell.execute_reply": "2021-01-01T18:01:44.637208Z"
    },
    "papermill": {
     "duration": 0.649312,
     "end_time": "2021-01-01T18:01:44.637961",
     "exception": false,
     "start_time": "2021-01-01T18:01:43.988649",
     "status": "completed"
    },
    "tags": []
   },
   "outputs": [
    {
     "data": {
      "image/png": "[encoded data removed]",
      "text/plain": [
       "<Figure size 917.425x216 with 1 Axes>"
      ]
     },
     "metadata": {},
     "output_type": "display_data"
    }
   ],
   "source": [
    "facet = sns.FacetGrid(train, hue = \"Survived\", aspect = 4)\n",
    "facet.map(sns.kdeplot, \"Fare\" , shade = True)\n",
    "facet.set(xlim = (0,train[\"Fare\"].max()))\n",
    "facet.add_legend()\n",
    "plt.show()"
   ]
  },
  {
   "cell_type": "code",
   "execution_count": 26,
   "metadata": {
    "execution": {
     "iopub.execute_input": "2021-01-01T18:01:44.753384Z",
     "iopub.status.busy": "2021-01-01T18:01:44.752634Z",
     "iopub.status.idle": "2021-01-01T18:01:45.439115Z",
     "shell.execute_reply": "2021-01-01T18:01:45.438584Z"
    },
    "papermill": {
     "duration": 0.74794,
     "end_time": "2021-01-01T18:01:45.439224",
     "exception": false,
     "start_time": "2021-01-01T18:01:44.691284",
     "status": "completed"
    },
    "tags": []
   },
   "outputs": [
    {
     "data": {
      "text/plain": [
       "(17.0, 30.0)"
      ]
     },
     "execution_count": 26,
     "metadata": {},
     "output_type": "execute_result"
    },
    {
     "data": {
      "image/png": "[encoded data removed]",
      "text/plain": [
       "<Figure size 917.425x216 with 1 Axes>"
      ]
     },
     "metadata": {},
     "output_type": "display_data"
    }
   ],
   "source": [
    "facet = sns.FacetGrid(train, hue = \"Survived\", aspect = 4)\n",
    "facet.map(sns.kdeplot, \"Fare\" , shade = True)\n",
    "facet.set(xlim = (0,train[\"Fare\"].max()))\n",
    "facet.add_legend()\n",
    "plt.xlim(17,30)"
   ]
  },
  {
   "cell_type": "code",
   "execution_count": 27,
   "metadata": {
    "execution": {
     "iopub.execute_input": "2021-01-01T18:01:45.566643Z",
     "iopub.status.busy": "2021-01-01T18:01:45.561294Z",
     "iopub.status.idle": "2021-01-01T18:01:45.570197Z",
     "shell.execute_reply": "2021-01-01T18:01:45.569576Z"
    },
    "papermill": {
     "duration": 0.076582,
     "end_time": "2021-01-01T18:01:45.570314",
     "exception": false,
     "start_time": "2021-01-01T18:01:45.493732",
     "status": "completed"
    },
    "tags": []
   },
   "outputs": [],
   "source": [
    "for dataset in train_test:\n",
    "    dataset.loc[dataset[\"Fare\"] <= 17, \"Fare\"] = 0\n",
    "    dataset.loc[(dataset[\"Fare\"] > 17) & (dataset[\"Fare\"] <= 30),\"Fare\"] = 1\n",
    "    dataset.loc[(dataset[\"Fare\"] > 30) & (dataset[\"Fare\"] <= 100), \"Fare\"] = 2\n",
    "    dataset.loc[dataset[\"Fare\"] > 100,\"Fare\"] = 3\n",
    "    "
   ]
  },
  {
   "cell_type": "code",
   "execution_count": 28,
   "metadata": {
    "execution": {
     "iopub.execute_input": "2021-01-01T18:01:45.690511Z",
     "iopub.status.busy": "2021-01-01T18:01:45.689561Z",
     "iopub.status.idle": "2021-01-01T18:01:45.694659Z",
     "shell.execute_reply": "2021-01-01T18:01:45.693852Z"
    },
    "papermill": {
     "duration": 0.069437,
     "end_time": "2021-01-01T18:01:45.694807",
     "exception": false,
     "start_time": "2021-01-01T18:01:45.625370",
     "status": "completed"
    },
    "tags": []
   },
   "outputs": [
    {
     "data": {
      "text/plain": [
       "C23 C25 C27    4\n",
       "B96 B98        4\n",
       "G6             4\n",
       "D              3\n",
       "C22 C26        3\n",
       "              ..\n",
       "A19            1\n",
       "E68            1\n",
       "D30            1\n",
       "B38            1\n",
       "C45            1\n",
       "Name: Cabin, Length: 147, dtype: int64"
      ]
     },
     "execution_count": 28,
     "metadata": {},
     "output_type": "execute_result"
    }
   ],
   "source": [
    "train.Cabin.value_counts()"
   ]
  },
  {
   "cell_type": "code",
   "execution_count": 29,
   "metadata": {
    "execution": {
     "iopub.execute_input": "2021-01-01T18:01:45.864586Z",
     "iopub.status.busy": "2021-01-01T18:01:45.863488Z",
     "iopub.status.idle": "2021-01-01T18:01:45.865878Z",
     "shell.execute_reply": "2021-01-01T18:01:45.866497Z"
    },
    "papermill": {
     "duration": 0.091145,
     "end_time": "2021-01-01T18:01:45.866647",
     "exception": false,
     "start_time": "2021-01-01T18:01:45.775502",
     "status": "completed"
    },
    "tags": []
   },
   "outputs": [],
   "source": [
    "for dataset in train_test:\n",
    "    dataset[\"Cabin\"] = dataset[\"Cabin\"].str[:1]"
   ]
  },
  {
   "cell_type": "code",
   "execution_count": 30,
   "metadata": {
    "execution": {
     "iopub.execute_input": "2021-01-01T18:01:46.040309Z",
     "iopub.status.busy": "2021-01-01T18:01:46.037465Z",
     "iopub.status.idle": "2021-01-01T18:01:46.352235Z",
     "shell.execute_reply": "2021-01-01T18:01:46.351508Z"
    },
    "papermill": {
     "duration": 0.40529,
     "end_time": "2021-01-01T18:01:46.352368",
     "exception": false,
     "start_time": "2021-01-01T18:01:45.947078",
     "status": "completed"
    },
    "tags": []
   },
   "outputs": [
    {
     "data": {
      "text/plain": [
       "<matplotlib.axes._subplots.AxesSubplot at 0x7f73b8136cd0>"
      ]
     },
     "execution_count": 30,
     "metadata": {},
     "output_type": "execute_result"
    },
    {
     "data": {
      "image/png": "[encoded data removed]",
      "text/plain": [
       "<Figure size 720x360 with 1 Axes>"
      ]
     },
     "metadata": {},
     "output_type": "display_data"
    }
   ],
   "source": [
    "Pclass1 = train[train[\"Pclass\"] == 1][\"Cabin\"].value_counts()\n",
    "Pclass2 = train[train[\"Pclass\"] == 2][\"Cabin\"].value_counts()\n",
    "Pclass3 = train[train[\"Pclass\"] == 3][\"Cabin\"].value_counts()\n",
    "pclass = pd.DataFrame([Pclass1, Pclass2, Pclass3])\n",
    "pclass.index = [\"1st Class\",\"2nd Class\", \"3rd Class\"]\n",
    "pclass.plot(kind = \"bar\", stacked = True, figsize = (10,5))"
   ]
  },
  {
   "cell_type": "code",
   "execution_count": 31,
   "metadata": {
    "execution": {
     "iopub.execute_input": "2021-01-01T18:01:46.531156Z",
     "iopub.status.busy": "2021-01-01T18:01:46.530300Z",
     "iopub.status.idle": "2021-01-01T18:01:46.533791Z",
     "shell.execute_reply": "2021-01-01T18:01:46.532977Z"
    },
    "papermill": {
     "duration": 0.098036,
     "end_time": "2021-01-01T18:01:46.533919",
     "exception": false,
     "start_time": "2021-01-01T18:01:46.435883",
     "status": "completed"
    },
    "tags": []
   },
   "outputs": [],
   "source": [
    "cabin_dict = {\"A\" : 0,\"B\" : 0.4, \"C\": 0.8, \"D\":1.2, \"E\" :1.6, \"F\" : 2.0, \"G\" : 2.4, \"T\": 2.8}\n",
    "for dataset in train_test:\n",
    "    dataset[\"Cabin\"] = dataset.Cabin.map(cabin_dict)"
   ]
  },
  {
   "cell_type": "code",
   "execution_count": 32,
   "metadata": {
    "execution": {
     "iopub.execute_input": "2021-01-01T18:01:46.717790Z",
     "iopub.status.busy": "2021-01-01T18:01:46.716696Z",
     "iopub.status.idle": "2021-01-01T18:01:46.722116Z",
     "shell.execute_reply": "2021-01-01T18:01:46.721401Z"
    },
    "papermill": {
     "duration": 0.104292,
     "end_time": "2021-01-01T18:01:46.722248",
     "exception": false,
     "start_time": "2021-01-01T18:01:46.617956",
     "status": "completed"
    },
    "tags": []
   },
   "outputs": [
    {
     "data": {
      "text/html": [
       "<div>\n",
       "<style scoped>\n",
       "    .dataframe tbody tr th:only-of-type {\n",
       "        vertical-align: middle;\n",
       "    }\n",
       "\n",
       "    .dataframe tbody tr th {\n",
       "        vertical-align: top;\n",
       "    }\n",
       "\n",
       "    .dataframe thead th {\n",
       "        text-align: right;\n",
       "    }\n",
       "</style>\n",
       "<table border=\"1\" class=\"dataframe\">\n",
       "  <thead>\n",
       "    <tr style=\"text-align: right;\">\n",
       "      <th></th>\n",
       "      <th>PassengerId</th>\n",
       "      <th>Survived</th>\n",
       "      <th>Pclass</th>\n",
       "      <th>Sex</th>\n",
       "      <th>Age</th>\n",
       "      <th>SibSp</th>\n",
       "      <th>Parch</th>\n",
       "      <th>Ticket</th>\n",
       "      <th>Fare</th>\n",
       "      <th>Cabin</th>\n",
       "      <th>Embarked</th>\n",
       "      <th>Title</th>\n",
       "    </tr>\n",
       "  </thead>\n",
       "  <tbody>\n",
       "    <tr>\n",
       "      <th>0</th>\n",
       "      <td>1</td>\n",
       "      <td>0</td>\n",
       "      <td>3</td>\n",
       "      <td>0</td>\n",
       "      <td>1.0</td>\n",
       "      <td>1</td>\n",
       "      <td>0</td>\n",
       "      <td>A/5 21171</td>\n",
       "      <td>0.0</td>\n",
       "      <td>NaN</td>\n",
       "      <td>0</td>\n",
       "      <td>3.0</td>\n",
       "    </tr>\n",
       "    <tr>\n",
       "      <th>1</th>\n",
       "      <td>2</td>\n",
       "      <td>1</td>\n",
       "      <td>1</td>\n",
       "      <td>1</td>\n",
       "      <td>3.0</td>\n",
       "      <td>1</td>\n",
       "      <td>0</td>\n",
       "      <td>PC 17599</td>\n",
       "      <td>2.0</td>\n",
       "      <td>0.8</td>\n",
       "      <td>1</td>\n",
       "      <td>2.0</td>\n",
       "    </tr>\n",
       "    <tr>\n",
       "      <th>2</th>\n",
       "      <td>3</td>\n",
       "      <td>1</td>\n",
       "      <td>3</td>\n",
       "      <td>1</td>\n",
       "      <td>1.0</td>\n",
       "      <td>0</td>\n",
       "      <td>0</td>\n",
       "      <td>STON/O2. 3101282</td>\n",
       "      <td>0.0</td>\n",
       "      <td>NaN</td>\n",
       "      <td>0</td>\n",
       "      <td>3.0</td>\n",
       "    </tr>\n",
       "    <tr>\n",
       "      <th>3</th>\n",
       "      <td>4</td>\n",
       "      <td>1</td>\n",
       "      <td>1</td>\n",
       "      <td>1</td>\n",
       "      <td>2.0</td>\n",
       "      <td>1</td>\n",
       "      <td>0</td>\n",
       "      <td>113803</td>\n",
       "      <td>2.0</td>\n",
       "      <td>0.8</td>\n",
       "      <td>0</td>\n",
       "      <td>2.0</td>\n",
       "    </tr>\n",
       "    <tr>\n",
       "      <th>4</th>\n",
       "      <td>5</td>\n",
       "      <td>0</td>\n",
       "      <td>3</td>\n",
       "      <td>0</td>\n",
       "      <td>2.0</td>\n",
       "      <td>0</td>\n",
       "      <td>0</td>\n",
       "      <td>373450</td>\n",
       "      <td>0.0</td>\n",
       "      <td>NaN</td>\n",
       "      <td>0</td>\n",
       "      <td>3.0</td>\n",
       "    </tr>\n",
       "  </tbody>\n",
       "</table>\n",
       "</div>"
      ],
      "text/plain": [
       "   PassengerId  Survived  Pclass  Sex  Age  SibSp  Parch            Ticket  \\\n",
       "0            1         0       3    0  1.0      1      0         A/5 21171   \n",
       "1            2         1       1    1  3.0      1      0          PC 17599   \n",
       "2            3         1       3    1  1.0      0      0  STON/O2. 3101282   \n",
       "3            4         1       1    1  2.0      1      0            113803   \n",
       "4            5         0       3    0  2.0      0      0            373450   \n",
       "\n",
       "   Fare  Cabin  Embarked  Title  \n",
       "0   0.0    NaN         0    3.0  \n",
       "1   2.0    0.8         1    2.0  \n",
       "2   0.0    NaN         0    3.0  \n",
       "3   2.0    0.8         0    2.0  \n",
       "4   0.0    NaN         0    3.0  "
      ]
     },
     "execution_count": 32,
     "metadata": {},
     "output_type": "execute_result"
    }
   ],
   "source": [
    "train.head()"
   ]
  },
  {
   "cell_type": "code",
   "execution_count": 33,
   "metadata": {
    "execution": {
     "iopub.execute_input": "2021-01-01T18:01:46.900031Z",
     "iopub.status.busy": "2021-01-01T18:01:46.899162Z",
     "iopub.status.idle": "2021-01-01T18:01:46.905005Z",
     "shell.execute_reply": "2021-01-01T18:01:46.905635Z"
    },
    "papermill": {
     "duration": 0.09982,
     "end_time": "2021-01-01T18:01:46.905822",
     "exception": false,
     "start_time": "2021-01-01T18:01:46.806002",
     "status": "completed"
    },
    "tags": []
   },
   "outputs": [],
   "source": [
    "train.Cabin.fillna(train.groupby(\"Pclass\").Cabin.transform(\"median\"),inplace = True)\n",
    "test.Cabin.fillna(test.groupby(\"Pclass\").Cabin.transform(\"median\"),inplace = True)"
   ]
  },
  {
   "cell_type": "markdown",
   "metadata": {
    "papermill": {
     "duration": 0.074127,
     "end_time": "2021-01-01T18:01:47.064385",
     "exception": false,
     "start_time": "2021-01-01T18:01:46.990258",
     "status": "completed"
    },
    "tags": []
   },
   "source": [
    "# **Short forms**\n",
    "\n",
    "_The below two field provided are combined to form a new field know as **\"Family_Size\"** :-_\n",
    "- SibSp = \"Single Child Single Parent\"\n",
    "- Parch = \"Parents and child\""
   ]
  },
  {
   "cell_type": "code",
   "execution_count": 34,
   "metadata": {
    "execution": {
     "iopub.execute_input": "2021-01-01T18:01:47.190111Z",
     "iopub.status.busy": "2021-01-01T18:01:47.189442Z",
     "iopub.status.idle": "2021-01-01T18:01:47.193328Z",
     "shell.execute_reply": "2021-01-01T18:01:47.192855Z"
    },
    "papermill": {
     "duration": 0.070076,
     "end_time": "2021-01-01T18:01:47.193415",
     "exception": false,
     "start_time": "2021-01-01T18:01:47.123339",
     "status": "completed"
    },
    "tags": []
   },
   "outputs": [],
   "source": [
    "train[\"Family_size\"] = train[\"SibSp\"] + train[\"Parch\"] + 1\n",
    "test[\"Family_size\"] = test[\"SibSp\"] + test[\"Parch\"] + 1 \n"
   ]
  },
  {
   "cell_type": "code",
   "execution_count": 35,
   "metadata": {
    "execution": {
     "iopub.execute_input": "2021-01-01T18:01:47.341402Z",
     "iopub.status.busy": "2021-01-01T18:01:47.331453Z",
     "iopub.status.idle": "2021-01-01T18:01:47.831591Z",
     "shell.execute_reply": "2021-01-01T18:01:47.830983Z"
    },
    "papermill": {
     "duration": 0.570759,
     "end_time": "2021-01-01T18:01:47.831696",
     "exception": false,
     "start_time": "2021-01-01T18:01:47.260937",
     "status": "completed"
    },
    "tags": []
   },
   "outputs": [
    {
     "data": {
      "text/plain": [
       "(0.0, 11.0)"
      ]
     },
     "execution_count": 35,
     "metadata": {},
     "output_type": "execute_result"
    },
    {
     "data": {
      "image/png": "[encoded data removed]",
      "text/plain": [
       "<Figure size 917.425x216 with 1 Axes>"
      ]
     },
     "metadata": {},
     "output_type": "display_data"
    }
   ],
   "source": [
    "facet = sns.FacetGrid(train,hue = \"Survived\",aspect = 4)\n",
    "facet.map(sns.kdeplot,\"Family_size\",shade = True)\n",
    "facet.set(xlim = (0,train[\"Family_size\"].max()))\n",
    "facet.add_legend()\n",
    "plt.xlim(0)"
   ]
  },
  {
   "cell_type": "code",
   "execution_count": 36,
   "metadata": {
    "execution": {
     "iopub.execute_input": "2021-01-01T18:01:47.959657Z",
     "iopub.status.busy": "2021-01-01T18:01:47.959043Z",
     "iopub.status.idle": "2021-01-01T18:01:47.962818Z",
     "shell.execute_reply": "2021-01-01T18:01:47.963280Z"
    },
    "papermill": {
     "duration": 0.073353,
     "end_time": "2021-01-01T18:01:47.963414",
     "exception": false,
     "start_time": "2021-01-01T18:01:47.890061",
     "status": "completed"
    },
    "tags": []
   },
   "outputs": [],
   "source": [
    "family_mapping = {1 : 0, 2 : 0.4, 3 : 0.8, 4 : 1.2, 5 : 1.6, 6: 2.0, 7 :2.4, 8 : 2.8, 9: 3.2, 10: 3.6, 11: 4.0}\n",
    "for dataset in train_test:\n",
    "    dataset[\"Family_size\"]=dataset[\"Family_size\"].map(family_mapping)"
   ]
  },
  {
   "cell_type": "code",
   "execution_count": 37,
   "metadata": {
    "execution": {
     "iopub.execute_input": "2021-01-01T18:01:48.092860Z",
     "iopub.status.busy": "2021-01-01T18:01:48.092120Z",
     "iopub.status.idle": "2021-01-01T18:01:48.095958Z",
     "shell.execute_reply": "2021-01-01T18:01:48.095428Z"
    },
    "papermill": {
     "duration": 0.073446,
     "end_time": "2021-01-01T18:01:48.096065",
     "exception": false,
     "start_time": "2021-01-01T18:01:48.022619",
     "status": "completed"
    },
    "tags": []
   },
   "outputs": [],
   "source": [
    "feature_drop = [\"SibSp\",\"Parch\",\"Ticket\"]\n",
    "train = train.drop(feature_drop, axis = 1)\n",
    "test = test.drop(feature_drop,axis = 1)\n",
    "train = train.drop(\"PassengerId\", axis = 1)"
   ]
  },
  {
   "cell_type": "code",
   "execution_count": 38,
   "metadata": {
    "execution": {
     "iopub.execute_input": "2021-01-01T18:01:48.221237Z",
     "iopub.status.busy": "2021-01-01T18:01:48.220509Z",
     "iopub.status.idle": "2021-01-01T18:01:48.225698Z",
     "shell.execute_reply": "2021-01-01T18:01:48.225086Z"
    },
    "papermill": {
     "duration": 0.070595,
     "end_time": "2021-01-01T18:01:48.225827",
     "exception": false,
     "start_time": "2021-01-01T18:01:48.155232",
     "status": "completed"
    },
    "tags": []
   },
   "outputs": [
    {
     "data": {
      "text/plain": [
       "((891, 9), (418, 9))"
      ]
     },
     "execution_count": 38,
     "metadata": {},
     "output_type": "execute_result"
    }
   ],
   "source": [
    "train_data = train.drop(\"Survived\" ,axis = 1)\n",
    "target = train[\"Survived\"]\n",
    "train.shape, test.shape"
   ]
  },
  {
   "cell_type": "markdown",
   "metadata": {
    "papermill": {
     "duration": 0.059282,
     "end_time": "2021-01-01T18:01:48.344141",
     "exception": false,
     "start_time": "2021-01-01T18:01:48.284859",
     "status": "completed"
    },
    "tags": []
   },
   "source": [
    "# FINAL VECTOR\n",
    "\n",
    " _The dataset is finally made informative by dropping unnecessary values. The below-provided data can be used directly to train and predict with help of the machine learning model._"
   ]
  },
  {
   "cell_type": "code",
   "execution_count": 39,
   "metadata": {
    "execution": {
     "iopub.execute_input": "2021-01-01T18:01:48.487337Z",
     "iopub.status.busy": "2021-01-01T18:01:48.486685Z",
     "iopub.status.idle": "2021-01-01T18:01:48.492413Z",
     "shell.execute_reply": "2021-01-01T18:01:48.491808Z"
    },
    "papermill": {
     "duration": 0.08573,
     "end_time": "2021-01-01T18:01:48.492531",
     "exception": false,
     "start_time": "2021-01-01T18:01:48.406801",
     "status": "completed"
    },
    "tags": []
   },
   "outputs": [
    {
     "data": {
      "text/html": [
       "<div>\n",
       "<style scoped>\n",
       "    .dataframe tbody tr th:only-of-type {\n",
       "        vertical-align: middle;\n",
       "    }\n",
       "\n",
       "    .dataframe tbody tr th {\n",
       "        vertical-align: top;\n",
       "    }\n",
       "\n",
       "    .dataframe thead th {\n",
       "        text-align: right;\n",
       "    }\n",
       "</style>\n",
       "<table border=\"1\" class=\"dataframe\">\n",
       "  <thead>\n",
       "    <tr style=\"text-align: right;\">\n",
       "      <th></th>\n",
       "      <th>Pclass</th>\n",
       "      <th>Sex</th>\n",
       "      <th>Age</th>\n",
       "      <th>Fare</th>\n",
       "      <th>Cabin</th>\n",
       "      <th>Embarked</th>\n",
       "      <th>Title</th>\n",
       "      <th>Family_size</th>\n",
       "    </tr>\n",
       "  </thead>\n",
       "  <tbody>\n",
       "    <tr>\n",
       "      <th>0</th>\n",
       "      <td>3</td>\n",
       "      <td>0</td>\n",
       "      <td>1.0</td>\n",
       "      <td>0.0</td>\n",
       "      <td>2.0</td>\n",
       "      <td>0</td>\n",
       "      <td>3.0</td>\n",
       "      <td>0.4</td>\n",
       "    </tr>\n",
       "    <tr>\n",
       "      <th>1</th>\n",
       "      <td>1</td>\n",
       "      <td>1</td>\n",
       "      <td>3.0</td>\n",
       "      <td>2.0</td>\n",
       "      <td>0.8</td>\n",
       "      <td>1</td>\n",
       "      <td>2.0</td>\n",
       "      <td>0.4</td>\n",
       "    </tr>\n",
       "    <tr>\n",
       "      <th>2</th>\n",
       "      <td>3</td>\n",
       "      <td>1</td>\n",
       "      <td>1.0</td>\n",
       "      <td>0.0</td>\n",
       "      <td>2.0</td>\n",
       "      <td>0</td>\n",
       "      <td>3.0</td>\n",
       "      <td>0.0</td>\n",
       "    </tr>\n",
       "    <tr>\n",
       "      <th>3</th>\n",
       "      <td>1</td>\n",
       "      <td>1</td>\n",
       "      <td>2.0</td>\n",
       "      <td>2.0</td>\n",
       "      <td>0.8</td>\n",
       "      <td>0</td>\n",
       "      <td>2.0</td>\n",
       "      <td>0.4</td>\n",
       "    </tr>\n",
       "    <tr>\n",
       "      <th>4</th>\n",
       "      <td>3</td>\n",
       "      <td>0</td>\n",
       "      <td>2.0</td>\n",
       "      <td>0.0</td>\n",
       "      <td>2.0</td>\n",
       "      <td>0</td>\n",
       "      <td>3.0</td>\n",
       "      <td>0.0</td>\n",
       "    </tr>\n",
       "    <tr>\n",
       "      <th>5</th>\n",
       "      <td>3</td>\n",
       "      <td>0</td>\n",
       "      <td>2.0</td>\n",
       "      <td>0.0</td>\n",
       "      <td>2.0</td>\n",
       "      <td>2</td>\n",
       "      <td>3.0</td>\n",
       "      <td>0.0</td>\n",
       "    </tr>\n",
       "    <tr>\n",
       "      <th>6</th>\n",
       "      <td>1</td>\n",
       "      <td>0</td>\n",
       "      <td>3.0</td>\n",
       "      <td>2.0</td>\n",
       "      <td>1.6</td>\n",
       "      <td>0</td>\n",
       "      <td>3.0</td>\n",
       "      <td>0.0</td>\n",
       "    </tr>\n",
       "    <tr>\n",
       "      <th>7</th>\n",
       "      <td>3</td>\n",
       "      <td>0</td>\n",
       "      <td>0.0</td>\n",
       "      <td>1.0</td>\n",
       "      <td>2.0</td>\n",
       "      <td>0</td>\n",
       "      <td>3.0</td>\n",
       "      <td>1.6</td>\n",
       "    </tr>\n",
       "    <tr>\n",
       "      <th>8</th>\n",
       "      <td>3</td>\n",
       "      <td>1</td>\n",
       "      <td>2.0</td>\n",
       "      <td>0.0</td>\n",
       "      <td>2.0</td>\n",
       "      <td>0</td>\n",
       "      <td>2.0</td>\n",
       "      <td>0.8</td>\n",
       "    </tr>\n",
       "    <tr>\n",
       "      <th>9</th>\n",
       "      <td>2</td>\n",
       "      <td>1</td>\n",
       "      <td>0.0</td>\n",
       "      <td>2.0</td>\n",
       "      <td>1.8</td>\n",
       "      <td>1</td>\n",
       "      <td>2.0</td>\n",
       "      <td>0.4</td>\n",
       "    </tr>\n",
       "  </tbody>\n",
       "</table>\n",
       "</div>"
      ],
      "text/plain": [
       "   Pclass  Sex  Age  Fare  Cabin  Embarked  Title  Family_size\n",
       "0       3    0  1.0   0.0    2.0         0    3.0          0.4\n",
       "1       1    1  3.0   2.0    0.8         1    2.0          0.4\n",
       "2       3    1  1.0   0.0    2.0         0    3.0          0.0\n",
       "3       1    1  2.0   2.0    0.8         0    2.0          0.4\n",
       "4       3    0  2.0   0.0    2.0         0    3.0          0.0\n",
       "5       3    0  2.0   0.0    2.0         2    3.0          0.0\n",
       "6       1    0  3.0   2.0    1.6         0    3.0          0.0\n",
       "7       3    0  0.0   1.0    2.0         0    3.0          1.6\n",
       "8       3    1  2.0   0.0    2.0         0    2.0          0.8\n",
       "9       2    1  0.0   2.0    1.8         1    2.0          0.4"
      ]
     },
     "execution_count": 39,
     "metadata": {},
     "output_type": "execute_result"
    }
   ],
   "source": [
    "train_data.head(10)"
   ]
  },
  {
   "cell_type": "markdown",
   "metadata": {
    "papermill": {
     "duration": 0.05933,
     "end_time": "2021-01-01T18:01:48.612686",
     "exception": false,
     "start_time": "2021-01-01T18:01:48.553356",
     "status": "completed"
    },
    "tags": []
   },
   "source": [
    "# TRAINING AND PREDICTION\n",
    "\n",
    "_The list of classifiers are mentioned below:-_\n",
    "* _GradientBoostingClassifier_\n",
    "* _RandomForestClassifier_\n",
    "* _KNeighborsClassifier_\n",
    "* _svmClassifier_\n",
    "\n",
    "_The classifier used by us in this activity is KNeighborsClassifier()_"
   ]
  },
  {
   "cell_type": "code",
   "execution_count": 40,
   "metadata": {
    "execution": {
     "iopub.execute_input": "2021-01-01T18:01:48.737995Z",
     "iopub.status.busy": "2021-01-01T18:01:48.737284Z",
     "iopub.status.idle": "2021-01-01T18:01:48.989092Z",
     "shell.execute_reply": "2021-01-01T18:01:48.988229Z"
    },
    "papermill": {
     "duration": 0.31692,
     "end_time": "2021-01-01T18:01:48.989223",
     "exception": false,
     "start_time": "2021-01-01T18:01:48.672303",
     "status": "completed"
    },
    "tags": []
   },
   "outputs": [],
   "source": [
    "from sklearn.neighbors import KNeighborsClassifier"
   ]
  },
  {
   "cell_type": "code",
   "execution_count": 41,
   "metadata": {
    "execution": {
     "iopub.execute_input": "2021-01-01T18:01:49.135435Z",
     "iopub.status.busy": "2021-01-01T18:01:49.134363Z",
     "iopub.status.idle": "2021-01-01T18:01:49.136913Z",
     "shell.execute_reply": "2021-01-01T18:01:49.137709Z"
    },
    "papermill": {
     "duration": 0.07131,
     "end_time": "2021-01-01T18:01:49.137901",
     "exception": false,
     "start_time": "2021-01-01T18:01:49.066591",
     "status": "completed"
    },
    "tags": []
   },
   "outputs": [],
   "source": [
    "from sklearn.model_selection import KFold\n",
    "from sklearn.model_selection import cross_val_score\n",
    "k_fold = KFold(n_splits = 10, shuffle = True, random_state = 0 )"
   ]
  },
  {
   "cell_type": "code",
   "execution_count": 42,
   "metadata": {
    "execution": {
     "iopub.execute_input": "2021-01-01T18:01:49.324284Z",
     "iopub.status.busy": "2021-01-01T18:01:49.323488Z",
     "iopub.status.idle": "2021-01-01T18:01:49.399882Z",
     "shell.execute_reply": "2021-01-01T18:01:49.400390Z"
    },
    "papermill": {
     "duration": 0.172495,
     "end_time": "2021-01-01T18:01:49.400522",
     "exception": false,
     "start_time": "2021-01-01T18:01:49.228027",
     "status": "completed"
    },
    "tags": []
   },
   "outputs": [],
   "source": [
    "cfl = KNeighborsClassifier(n_neighbors = 13)\n",
    "scoring = \"accuracy\"\n",
    "score = cross_val_score(cfl ,train_data,target,cv = k_fold, n_jobs = 1, scoring = scoring)\n"
   ]
  },
  {
   "cell_type": "code",
   "execution_count": 43,
   "metadata": {
    "execution": {
     "iopub.execute_input": "2021-01-01T18:01:49.530656Z",
     "iopub.status.busy": "2021-01-01T18:01:49.530247Z",
     "iopub.status.idle": "2021-01-01T18:01:49.535999Z",
     "shell.execute_reply": "2021-01-01T18:01:49.535332Z"
    },
    "papermill": {
     "duration": 0.0722,
     "end_time": "2021-01-01T18:01:49.536111",
     "exception": false,
     "start_time": "2021-01-01T18:01:49.463911",
     "status": "completed"
    },
    "tags": []
   },
   "outputs": [
    {
     "data": {
      "text/plain": [
       "80.92"
      ]
     },
     "execution_count": 43,
     "metadata": {},
     "output_type": "execute_result"
    }
   ],
   "source": [
    "round(np.mean(score)*100,2)\n"
   ]
  },
  {
   "cell_type": "markdown",
   "metadata": {
    "papermill": {
     "duration": 0.060648,
     "end_time": "2021-01-01T18:01:49.659599",
     "exception": false,
     "start_time": "2021-01-01T18:01:49.598951",
     "status": "completed"
    },
    "tags": []
   },
   "source": [
    "_The score value predicted for the output is given as 80.92%_"
   ]
  },
  {
   "cell_type": "markdown",
   "metadata": {
    "papermill": {
     "duration": 0.060151,
     "end_time": "2021-01-01T18:01:49.781670",
     "exception": false,
     "start_time": "2021-01-01T18:01:49.721519",
     "status": "completed"
    },
    "tags": []
   },
   "source": [
    "### *_PREDECTION_*"
   ]
  },
  {
   "cell_type": "code",
   "execution_count": 44,
   "metadata": {
    "execution": {
     "iopub.execute_input": "2021-01-01T18:01:49.911098Z",
     "iopub.status.busy": "2021-01-01T18:01:49.910487Z",
     "iopub.status.idle": "2021-01-01T18:01:49.922018Z",
     "shell.execute_reply": "2021-01-01T18:01:49.921324Z"
    },
    "papermill": {
     "duration": 0.079876,
     "end_time": "2021-01-01T18:01:49.922153",
     "exception": false,
     "start_time": "2021-01-01T18:01:49.842277",
     "status": "completed"
    },
    "tags": []
   },
   "outputs": [
    {
     "data": {
      "text/plain": [
       "KNeighborsClassifier(n_neighbors=13)"
      ]
     },
     "execution_count": 44,
     "metadata": {},
     "output_type": "execute_result"
    }
   ],
   "source": [
    "cfl.fit(train_data,target)\n",
    "\n"
   ]
  },
  {
   "cell_type": "code",
   "execution_count": 45,
   "metadata": {
    "execution": {
     "iopub.execute_input": "2021-01-01T18:01:50.111627Z",
     "iopub.status.busy": "2021-01-01T18:01:50.110698Z",
     "iopub.status.idle": "2021-01-01T18:01:50.114463Z",
     "shell.execute_reply": "2021-01-01T18:01:50.113648Z"
    },
    "papermill": {
     "duration": 0.101793,
     "end_time": "2021-01-01T18:01:50.114588",
     "exception": false,
     "start_time": "2021-01-01T18:01:50.012795",
     "status": "completed"
    },
    "tags": []
   },
   "outputs": [],
   "source": [
    "test_data = test.drop(\"PassengerId\",axis = 1).copy()"
   ]
  },
  {
   "cell_type": "code",
   "execution_count": 46,
   "metadata": {
    "execution": {
     "iopub.execute_input": "2021-01-01T18:01:50.302341Z",
     "iopub.status.busy": "2021-01-01T18:01:50.301345Z",
     "iopub.status.idle": "2021-01-01T18:01:50.329124Z",
     "shell.execute_reply": "2021-01-01T18:01:50.328383Z"
    },
    "papermill": {
     "duration": 0.12431,
     "end_time": "2021-01-01T18:01:50.329267",
     "exception": false,
     "start_time": "2021-01-01T18:01:50.204957",
     "status": "completed"
    },
    "tags": []
   },
   "outputs": [],
   "source": [
    "predict = cfl.predict(test_data)"
   ]
  },
  {
   "cell_type": "code",
   "execution_count": 47,
   "metadata": {
    "execution": {
     "iopub.execute_input": "2021-01-01T18:01:50.479286Z",
     "iopub.status.busy": "2021-01-01T18:01:50.478474Z",
     "iopub.status.idle": "2021-01-01T18:01:50.481422Z",
     "shell.execute_reply": "2021-01-01T18:01:50.482077Z"
    },
    "papermill": {
     "duration": 0.077527,
     "end_time": "2021-01-01T18:01:50.482257",
     "exception": false,
     "start_time": "2021-01-01T18:01:50.404730",
     "status": "completed"
    },
    "tags": []
   },
   "outputs": [],
   "source": [
    "submission = pd.DataFrame({\"PassengerId\" : test[\"PassengerId\"],\n",
    "                          \"Survived\" : predict})"
   ]
  },
  {
   "cell_type": "code",
   "execution_count": 48,
   "metadata": {
    "execution": {
     "iopub.execute_input": "2021-01-01T18:01:50.685418Z",
     "iopub.status.busy": "2021-01-01T18:01:50.684297Z",
     "iopub.status.idle": "2021-01-01T18:01:51.036976Z",
     "shell.execute_reply": "2021-01-01T18:01:51.035935Z"
    },
    "papermill": {
     "duration": 0.459018,
     "end_time": "2021-01-01T18:01:51.037139",
     "exception": false,
     "start_time": "2021-01-01T18:01:50.578121",
     "status": "completed"
    },
    "tags": []
   },
   "outputs": [
    {
     "data": {
      "text/html": [
       "<div>\n",
       "<style scoped>\n",
       "    .dataframe tbody tr th:only-of-type {\n",
       "        vertical-align: middle;\n",
       "    }\n",
       "\n",
       "    .dataframe tbody tr th {\n",
       "        vertical-align: top;\n",
       "    }\n",
       "\n",
       "    .dataframe thead th {\n",
       "        text-align: right;\n",
       "    }\n",
       "</style>\n",
       "<table border=\"1\" class=\"dataframe\">\n",
       "  <thead>\n",
       "    <tr style=\"text-align: right;\">\n",
       "      <th></th>\n",
       "      <th>PassengerId</th>\n",
       "      <th>Survived</th>\n",
       "    </tr>\n",
       "  </thead>\n",
       "  <tbody>\n",
       "    <tr>\n",
       "      <th>0</th>\n",
       "      <td>892</td>\n",
       "      <td>0</td>\n",
       "    </tr>\n",
       "    <tr>\n",
       "      <th>1</th>\n",
       "      <td>893</td>\n",
       "      <td>0</td>\n",
       "    </tr>\n",
       "    <tr>\n",
       "      <th>2</th>\n",
       "      <td>894</td>\n",
       "      <td>0</td>\n",
       "    </tr>\n",
       "    <tr>\n",
       "      <th>3</th>\n",
       "      <td>895</td>\n",
       "      <td>0</td>\n",
       "    </tr>\n",
       "    <tr>\n",
       "      <th>4</th>\n",
       "      <td>896</td>\n",
       "      <td>1</td>\n",
       "    </tr>\n",
       "    <tr>\n",
       "      <th>...</th>\n",
       "      <td>...</td>\n",
       "      <td>...</td>\n",
       "    </tr>\n",
       "    <tr>\n",
       "      <th>413</th>\n",
       "      <td>1305</td>\n",
       "      <td>0</td>\n",
       "    </tr>\n",
       "    <tr>\n",
       "      <th>414</th>\n",
       "      <td>1306</td>\n",
       "      <td>1</td>\n",
       "    </tr>\n",
       "    <tr>\n",
       "      <th>415</th>\n",
       "      <td>1307</td>\n",
       "      <td>0</td>\n",
       "    </tr>\n",
       "    <tr>\n",
       "      <th>416</th>\n",
       "      <td>1308</td>\n",
       "      <td>0</td>\n",
       "    </tr>\n",
       "    <tr>\n",
       "      <th>417</th>\n",
       "      <td>1309</td>\n",
       "      <td>0</td>\n",
       "    </tr>\n",
       "  </tbody>\n",
       "</table>\n",
       "<p>418 rows × 2 columns</p>\n",
       "</div>"
      ],
      "text/plain": [
       "     PassengerId  Survived\n",
       "0            892         0\n",
       "1            893         0\n",
       "2            894         0\n",
       "3            895         0\n",
       "4            896         1\n",
       "..           ...       ...\n",
       "413         1305         0\n",
       "414         1306         1\n",
       "415         1307         0\n",
       "416         1308         0\n",
       "417         1309         0\n",
       "\n",
       "[418 rows x 2 columns]"
      ]
     },
     "execution_count": 48,
     "metadata": {},
     "output_type": "execute_result"
    }
   ],
   "source": [
    "submission.to_csv(\"submission.csv\" , index = False)\n",
    "submission"
   ]
  }
 ],
 "metadata": {
  "kernelspec": {
   "display_name": "Python 3",
   "language": "python",
   "name": "python3"
  },
  "language_info": {
   "codemirror_mode": {
    "name": "ipython",
    "version": 3
   },
   "file_extension": ".py",
   "mimetype": "text/x-python",
   "name": "python",
   "nbconvert_exporter": "python",
   "pygments_lexer": "ipython3",
   "version": "3.7.6"
  },
  "papermill": {
   "duration": 20.257524,
   "end_time": "2021-01-01T18:01:51.215132",
   "environment_variables": {},
   "exception": null,
   "input_path": "__notebook__.ipynb",
   "output_path": "__notebook__.ipynb",
   "parameters": {},
   "start_time": "2021-01-01T18:01:30.957608",
   "version": "2.1.0"
  }
 },
 "nbformat": 4,
 "nbformat_minor": 4
}
